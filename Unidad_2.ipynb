{
 "cells": [
  {
   "cell_type": "code",
   "execution_count": 55,
   "metadata": {},
   "outputs": [],
   "source": [
    "from simtk import openmm, unit\n",
    "from simtk.openmm import app\n",
    "import numpy as np\n",
    "import pandas as pd\n",
    "import matplotlib.pyplot as plt\n",
    "import seaborn as sns\n",
    "from tqdm import tqdm"
   ]
  },
  {
   "cell_type": "code",
   "execution_count": 2,
   "metadata": {},
   "outputs": [],
   "source": [
    "def run_double_well(mass, Eo, a, b,\n",
    "                   temperature, friction, integration_timestep, initial_position,\n",
    "                   saving_time, simulation_time):\n",
    "    \n",
    "    system = openmm.System()\n",
    "    system.addParticle(mass)\n",
    "    force = openmm.CustomExternalForce('A*x^4+B*x^2+C*x + D*(y^2+z^2)')\n",
    "    \n",
    "    k = 8.0*Eo/(a**2) # stiffness of the armonic potential for coordinates Y and Z\n",
    "    A = Eo/(a**4)\n",
    "    B = -2.0*Eo/(a**2)\n",
    "    C = -b/a\n",
    "    D = k/2.0\n",
    "    \n",
    "    force.addGlobalParameter('A', A)\n",
    "    force.addGlobalParameter('B', B)\n",
    "    force.addGlobalParameter('C', C)\n",
    "    force.addGlobalParameter('D', D)\n",
    "    \n",
    "    force.addParticle(0)\n",
    "    system.addForce(force)\n",
    "    \n",
    "    integrator = openmm.LangevinIntegrator(temperature, friction, integration_timestep)\n",
    "    platform = openmm.Platform.getPlatformByName('CUDA')\n",
    "    context = openmm.Context(system, integrator, platform)\n",
    "    \n",
    "    initial_positions =  np.zeros([1, 3], np.float32) * unit.nanometers\n",
    "    initial_positions[0,0]= initial_position    \n",
    "    context.setPositions(initial_positions)\n",
    "\n",
    "    initial_velocities = np.zeros([1, 3], np.float32) * unit.nanometers/unit.picoseconds\n",
    "    context.setVelocities(initial_velocities)\n",
    "    \n",
    "    saving_steps = int(saving_time/integration_timestep)\n",
    "    simulation_steps = int(simulation_time/integration_timestep)\n",
    "    n_saving_periods = int(simulation_steps/saving_steps)\n",
    "    \n",
    "    n_frames = n_saving_periods + 1\n",
    "    trajectory =  np.zeros([n_frames, 1, 3], np.float32) * unit.nanometers\n",
    "    time = np.zeros([n_frames], np.float32) * unit.nanoseconds\n",
    "    \n",
    "    trajectory[0, :, :] = initial_positions\n",
    "    time[0]= 0 * unit.picoseconds\n",
    "    \n",
    "    for ii in range(n_saving_periods):\n",
    "        integrator.step(saving_steps)\n",
    "        state = context.getState(getPositions=True)\n",
    "        trajectory[ii+1, :, :] = state.getPositions()\n",
    "        time[ii+1]=state.getTime()\n",
    "    \n",
    "    return time, trajectory"
   ]
  },
  {
   "cell_type": "code",
   "execution_count": 3,
   "metadata": {},
   "outputs": [],
   "source": [
    "mass = 100.0 * unit.amu\n",
    "Eo=4.0 * unit.kilocalories_per_mole\n",
    "a=1.0 * unit.nanometers\n",
    "b=0.5 * unit.kilocalories_per_mole\n",
    "\n",
    "temperature = 300.0*unit.kelvin\n",
    "friction = 0.5/unit.picoseconds\n",
    "integration_timestep = 0.02 * unit.picoseconds\n",
    "\n",
    "saving_time = 0.1 * unit.picoseconds\n",
    "simulation_time = 10.0 * unit.nanoseconds\n",
    "\n",
    "initial_position = 1.0 * unit.nanometers"
   ]
  },
  {
   "cell_type": "code",
   "execution_count": 4,
   "metadata": {},
   "outputs": [],
   "source": [
    "time, trajectory = run_double_well(mass, Eo, a, b,\n",
    "                   temperature, friction, integration_timestep, initial_position,\n",
    "                   saving_time, simulation_time)"
   ]
  },
  {
   "cell_type": "code",
   "execution_count": 5,
   "metadata": {},
   "outputs": [
    {
     "data": {
      "image/png": "[encoded data removed]",
      "text/plain": [
       "<Figure size 432x288 with 1 Axes>"
      ]
     },
     "metadata": {
      "needs_background": "light"
     },
     "output_type": "display_data"
    }
   ],
   "source": [
    "plt.plot(time, trajectory[:, 0, 0])\n",
    "plt.xlabel('Time [{}]'.format(time.unit))\n",
    "plt.ylabel('X [{}]'.format(trajectory.unit))\n",
    "plt.show()"
   ]
  },
  {
   "cell_type": "code",
   "execution_count": 6,
   "metadata": {},
   "outputs": [
    {
     "data": {
      "image/png": "[encoded data removed]",
      "text/plain": [
       "<Figure size 432x288 with 1 Axes>"
      ]
     },
     "metadata": {
      "needs_background": "light"
     },
     "output_type": "display_data"
    }
   ],
   "source": [
    "sns.histplot(trajectory[:,0,0], bins=60)\n",
    "plt.show()"
   ]
  },
  {
   "cell_type": "code",
   "execution_count": 7,
   "metadata": {},
   "outputs": [],
   "source": [
    "def get_probability_left (trajectory, barrier=0.0*unit.nanometers):\n",
    "    occupancy = (trajectory[:, 0, 0] < barrier).sum()\n",
    "    n_frames = trajectory.shape[0]\n",
    "    return occupancy/n_frames\n",
    "\n",
    "def get_probability_right (trajectory, barrier=0.0*unit.nanometers):\n",
    "    occupancy = (trajectory[:, 0, 0] >= barrier).sum()\n",
    "    n_frames = trajectory.shape[0]\n",
    "    return occupancy/n_frames"
   ]
  },
  {
   "cell_type": "code",
   "execution_count": 8,
   "metadata": {},
   "outputs": [
    {
     "data": {
      "text/plain": [
       "0.0"
      ]
     },
     "execution_count": 8,
     "metadata": {},
     "output_type": "execute_result"
    }
   ],
   "source": [
    "get_probability_left(trajectory)"
   ]
  },
  {
   "cell_type": "code",
   "execution_count": 9,
   "metadata": {},
   "outputs": [
    {
     "data": {
      "text/plain": [
       "1.0"
      ]
     },
     "execution_count": 9,
     "metadata": {},
     "output_type": "execute_result"
    }
   ],
   "source": [
    "get_probability_right(trajectory)"
   ]
  },
  {
   "cell_type": "markdown",
   "metadata": {},
   "source": [
    "# Probability distribution from statistical mechanics"
   ]
  },
  {
   "cell_type": "code",
   "execution_count": 10,
   "metadata": {},
   "outputs": [],
   "source": [
    "def potential_energy(Eo, a, b, x):\n",
    "    Ep = Eo * ( (x/a)**4 - 2.0 * (x/a)**2 ) - b*(x/a)\n",
    "    return Ep"
   ]
  },
  {
   "cell_type": "code",
   "execution_count": 11,
   "metadata": {},
   "outputs": [
    {
     "data": {
      "text/plain": [
       "Quantity(value=-4.5, unit=kilocalorie/mole)"
      ]
     },
     "execution_count": 11,
     "metadata": {},
     "output_type": "execute_result"
    }
   ],
   "source": [
    "potential_energy(Eo, a, b, 1.0*unit.nanometers)"
   ]
  },
  {
   "cell_type": "code",
   "execution_count": 12,
   "metadata": {},
   "outputs": [],
   "source": [
    "coor_x = np.linspace(-2.0, 2.0, 100) * unit.nanometers"
   ]
  },
  {
   "cell_type": "code",
   "execution_count": 13,
   "metadata": {},
   "outputs": [],
   "source": [
    "Ep_x = potential_energy(Eo, a, b, coor_x)"
   ]
  },
  {
   "cell_type": "code",
   "execution_count": 14,
   "metadata": {},
   "outputs": [
    {
     "data": {
      "image/png": "[encoded data removed]",
      "text/plain": [
       "<Figure size 432x288 with 1 Axes>"
      ]
     },
     "metadata": {
      "needs_background": "light"
     },
     "output_type": "display_data"
    }
   ],
   "source": [
    "plt.plot(coor_x, Ep_x)\n",
    "plt.ylim([-5.0, 5.0])\n",
    "plt.show()"
   ]
  },
  {
   "cell_type": "code",
   "execution_count": 15,
   "metadata": {},
   "outputs": [],
   "source": [
    "def partition_function_x(Eo, a, b, temperature, x):\n",
    "    kB=unit.BOLTZMANN_CONSTANT_kB * unit.AVOGADRO_CONSTANT_NA\n",
    "    beta = 1.0/(kB*temperature)\n",
    "    Ep = potential_energy(Eo, a, b, x)\n",
    "    z_x = np.exp(-beta*Ep)\n",
    "    return z_x"
   ]
  },
  {
   "cell_type": "code",
   "execution_count": 16,
   "metadata": {},
   "outputs": [],
   "source": [
    "z_x = partition_function_x(Eo, a, b, temperature, coor_x)"
   ]
  },
  {
   "cell_type": "code",
   "execution_count": 17,
   "metadata": {},
   "outputs": [
    {
     "data": {
      "image/png": "[encoded data removed]",
      "text/plain": [
       "<Figure size 432x288 with 1 Axes>"
      ]
     },
     "metadata": {
      "needs_background": "light"
     },
     "output_type": "display_data"
    }
   ],
   "source": [
    "plt.plot(coor_x, z_x)\n",
    "plt.show()"
   ]
  },
  {
   "cell_type": "code",
   "execution_count": 18,
   "metadata": {},
   "outputs": [],
   "source": [
    "x_integral = np.linspace(-3.0, 3.0, 1000) * unit.nanometers"
   ]
  },
  {
   "cell_type": "code",
   "execution_count": 19,
   "metadata": {},
   "outputs": [],
   "source": [
    "dx_integral = (x_integral[1:]-x_integral[:-1]).mean() / unit.nanometers"
   ]
  },
  {
   "cell_type": "code",
   "execution_count": 20,
   "metadata": {},
   "outputs": [
    {
     "data": {
      "text/plain": [
       "0.006006006006006006"
      ]
     },
     "execution_count": 20,
     "metadata": {},
     "output_type": "execute_result"
    }
   ],
   "source": [
    "dx_integral"
   ]
  },
  {
   "cell_type": "code",
   "execution_count": 21,
   "metadata": {},
   "outputs": [],
   "source": [
    "Z=0.0\n",
    "for x in x_integral:\n",
    "    Z+=partition_function_x(Eo, a, b, temperature, x)*dx_integral"
   ]
  },
  {
   "cell_type": "code",
   "execution_count": 22,
   "metadata": {},
   "outputs": [
    {
     "data": {
      "text/plain": [
       "788.6725442313782"
      ]
     },
     "execution_count": 22,
     "metadata": {},
     "output_type": "execute_result"
    }
   ],
   "source": [
    "Z"
   ]
  },
  {
   "cell_type": "code",
   "execution_count": 23,
   "metadata": {},
   "outputs": [],
   "source": [
    "def total_partition_function(Eo, a, b, temperature):\n",
    "    x_integral = np.linspace(-3.0, 3.0, 1000) * unit.nanometers\n",
    "    dx_integral = (x_integral[1:]-x_integral[:-1]).mean()/unit.nanometers\n",
    "    Z=0.0\n",
    "    for x in x_integral:\n",
    "        Z+=partition_function_x(Eo, a, b, temperature, x)*dx_integral\n",
    "    return Z"
   ]
  },
  {
   "cell_type": "code",
   "execution_count": 24,
   "metadata": {},
   "outputs": [],
   "source": [
    "Z = total_partition_function(Eo, a, b, temperature)"
   ]
  },
  {
   "cell_type": "code",
   "execution_count": 25,
   "metadata": {},
   "outputs": [],
   "source": [
    "def probability_x(Eo, a, b, temperature, x, Z):\n",
    "    z_x = partition_function_x(Eo, a, b, temperature, x)\n",
    "    return z_x/Z"
   ]
  },
  {
   "cell_type": "code",
   "execution_count": 28,
   "metadata": {},
   "outputs": [],
   "source": [
    "p_x = probability_x(Eo, a, b, temperature, coor_x, Z)"
   ]
  },
  {
   "cell_type": "code",
   "execution_count": 29,
   "metadata": {},
   "outputs": [
    {
     "data": {
      "image/png": "[encoded data removed]",
      "text/plain": [
       "<Figure size 432x288 with 1 Axes>"
      ]
     },
     "metadata": {
      "needs_background": "light"
     },
     "output_type": "display_data"
    }
   ],
   "source": [
    "plt.plot(coor_x, p_x)\n",
    "plt.show()"
   ]
  },
  {
   "cell_type": "code",
   "execution_count": 31,
   "metadata": {},
   "outputs": [],
   "source": [
    "P_left = 0.0\n",
    "x_integral = np.linspace(-3.0, 0.0, 1000) * unit.nanometers\n",
    "dx_integral = (x_integral[1:]-x_integral[:-1]).mean() / unit.nanometers\n",
    "for x in x_integral:\n",
    "    P_left+=probability_x(Eo, a, b, temperature, x, Z)*dx_integral"
   ]
  },
  {
   "cell_type": "code",
   "execution_count": 32,
   "metadata": {},
   "outputs": [
    {
     "data": {
      "text/plain": [
       "0.1652746118179859"
      ]
     },
     "execution_count": 32,
     "metadata": {},
     "output_type": "execute_result"
    }
   ],
   "source": [
    "P_left"
   ]
  },
  {
   "cell_type": "code",
   "execution_count": 36,
   "metadata": {},
   "outputs": [],
   "source": [
    "P_right = 1.0-P_left"
   ]
  },
  {
   "cell_type": "code",
   "execution_count": 37,
   "metadata": {},
   "outputs": [
    {
     "data": {
      "text/plain": [
       "0.8347253881820141"
      ]
     },
     "execution_count": 37,
     "metadata": {},
     "output_type": "execute_result"
    }
   ],
   "source": [
    "P_right"
   ]
  },
  {
   "cell_type": "code",
   "execution_count": 38,
   "metadata": {},
   "outputs": [],
   "source": [
    "K_d=P_left/P_right"
   ]
  },
  {
   "cell_type": "code",
   "execution_count": 39,
   "metadata": {},
   "outputs": [
    {
     "data": {
      "text/plain": [
       "0.19799878398085494"
      ]
     },
     "execution_count": 39,
     "metadata": {},
     "output_type": "execute_result"
    }
   ],
   "source": [
    "K_d"
   ]
  },
  {
   "cell_type": "code",
   "execution_count": 53,
   "metadata": {},
   "outputs": [],
   "source": [
    "x_mean = 0.0 * unit.nanometers\n",
    "x_integral = np.linspace(-3.0, 3.0, 1000) * unit.nanometers\n",
    "dx_integral = (x_integral[1:]-x_integral[:-1]).mean() / unit.nanometers\n",
    "for x in x_integral:\n",
    "    x_mean+=x*probability_x(Eo, a, b, temperature, x, Z)*dx_integral"
   ]
  },
  {
   "cell_type": "code",
   "execution_count": 54,
   "metadata": {},
   "outputs": [
    {
     "data": {
      "text/plain": [
       "Quantity(value=0.6656024595812997, unit=nanometer)"
      ]
     },
     "execution_count": 54,
     "metadata": {},
     "output_type": "execute_result"
    }
   ],
   "source": [
    "x_mean"
   ]
  },
  {
   "cell_type": "markdown",
   "metadata": {},
   "source": [
    "## Lets make some statistics"
   ]
  },
  {
   "cell_type": "code",
   "execution_count": 58,
   "metadata": {},
   "outputs": [],
   "source": [
    "simulation_time = 10.0 * unit.nanoseconds\n",
    "p_left_runs =[]\n",
    "x_mean_runs =[]"
   ]
  },
  {
   "cell_type": "code",
   "execution_count": 59,
   "metadata": {},
   "outputs": [
    {
     "name": "stderr",
     "output_type": "stream",
     "text": [
      "100%|██████████| 10/10 [08:30<00:00, 51.03s/it]\n"
     ]
    }
   ],
   "source": [
    "for run_index in tqdm(range(10)):\n",
    "    time, trajectory = run_double_well(mass, Eo, a, b, temperature, friction,\n",
    "                                       integration_timestep, initial_position,\n",
    "                                       saving_time, simulation_time)\n",
    "    p_left = get_probability_left(trajectory)\n",
    "    p_left_runs.append(p_left)\n",
    "    x_mean_runs.append(trajectory[:,0,0].mean())"
   ]
  },
  {
   "cell_type": "code",
   "execution_count": 60,
   "metadata": {},
   "outputs": [
    {
     "data": {
      "text/plain": [
       "[0.0,\n",
       " 0.00013999860001399987,\n",
       " 0.2922570774292257,\n",
       " 0.0,\n",
       " 0.0,\n",
       " 0.0,\n",
       " 0.0,\n",
       " 8.99991000089999e-05,\n",
       " 0.0,\n",
       " 0.42865571344286557]"
      ]
     },
     "execution_count": 60,
     "metadata": {},
     "output_type": "execute_result"
    }
   ],
   "source": [
    "p_left_runs"
   ]
  },
  {
   "cell_type": "code",
   "execution_count": 61,
   "metadata": {},
   "outputs": [
    {
     "data": {
      "text/plain": [
       "[Quantity(value=0.9855913, unit=nanometer),\n",
       " Quantity(value=0.98389196, unit=nanometer),\n",
       " Quantity(value=0.42059088, unit=nanometer),\n",
       " Quantity(value=0.98639405, unit=nanometer),\n",
       " Quantity(value=0.9853581, unit=nanometer),\n",
       " Quantity(value=0.98551583, unit=nanometer),\n",
       " Quantity(value=0.98162997, unit=nanometer),\n",
       " Quantity(value=0.9873362, unit=nanometer),\n",
       " Quantity(value=0.98395914, unit=nanometer),\n",
       " Quantity(value=0.15569489, unit=nanometer)]"
      ]
     },
     "execution_count": 61,
     "metadata": {},
     "output_type": "execute_result"
    }
   ],
   "source": [
    "x_mean_runs"
   ]
  },
  {
   "cell_type": "code",
   "execution_count": null,
   "metadata": {},
   "outputs": [],
   "source": []
  }
 ],
 "metadata": {
  "kernelspec": {
   "display_name": "Python 3",
   "language": "python",
   "name": "python3"
  },
  "language_info": {
   "codemirror_mode": {
    "name": "ipython",
    "version": 3
   },
   "file_extension": ".py",
   "mimetype": "text/x-python",
   "name": "python",
   "nbconvert_exporter": "python",
   "pygments_lexer": "ipython3",
   "version": "3.7.7"
  }
 },
 "nbformat": 4,
 "nbformat_minor": 4
}
